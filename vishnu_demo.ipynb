{
 "cells": [
  {
   "cell_type": "markdown",
   "metadata": {},
   "source": [
    "## Credit Card Fraud Detection\n",
    "\n",
    "In this project you will predict fraudulent credit card transactions with the help of Machine learning models. Please import the following libraries to get started."
   ]
  },
  {
   "cell_type": "code",
   "execution_count": 1,
   "metadata": {
    "scrolled": false
   },
   "outputs": [],
   "source": [
    "import numpy as np\n",
    "import pandas as pd\n",
    "\n",
    "import matplotlib.pyplot as plt\n",
    "%matplotlib inline\n",
    "import seaborn as sns\n",
    "\n",
    "from sklearn import metrics\n",
    "from sklearn import preprocessing"
   ]
  },
  {
   "cell_type": "markdown",
   "metadata": {},
   "source": [
    "## Exploratory data analysis"
   ]
  },
  {
   "cell_type": "code",
   "execution_count": 2,
   "metadata": {},
   "outputs": [
    {
     "data": {
      "text/html": [
       "<div>\n",
       "<style scoped>\n",
       "    .dataframe tbody tr th:only-of-type {\n",
       "        vertical-align: middle;\n",
       "    }\n",
       "\n",
       "    .dataframe tbody tr th {\n",
       "        vertical-align: top;\n",
       "    }\n",
       "\n",
       "    .dataframe thead th {\n",
       "        text-align: right;\n",
       "    }\n",
       "</style>\n",
       "<table border=\"1\" class=\"dataframe\">\n",
       "  <thead>\n",
       "    <tr style=\"text-align: right;\">\n",
       "      <th></th>\n",
       "      <th>Time</th>\n",
       "      <th>V1</th>\n",
       "      <th>V2</th>\n",
       "      <th>V3</th>\n",
       "      <th>V4</th>\n",
       "      <th>V5</th>\n",
       "      <th>V6</th>\n",
       "      <th>V7</th>\n",
       "      <th>V8</th>\n",
       "      <th>V9</th>\n",
       "      <th>...</th>\n",
       "      <th>V21</th>\n",
       "      <th>V22</th>\n",
       "      <th>V23</th>\n",
       "      <th>V24</th>\n",
       "      <th>V25</th>\n",
       "      <th>V26</th>\n",
       "      <th>V27</th>\n",
       "      <th>V28</th>\n",
       "      <th>Amount</th>\n",
       "      <th>Class</th>\n",
       "    </tr>\n",
       "  </thead>\n",
       "  <tbody>\n",
       "    <tr>\n",
       "      <td>0</td>\n",
       "      <td>0.0</td>\n",
       "      <td>-1.359807</td>\n",
       "      <td>-0.072781</td>\n",
       "      <td>2.536347</td>\n",
       "      <td>1.378155</td>\n",
       "      <td>-0.338321</td>\n",
       "      <td>0.462388</td>\n",
       "      <td>0.239599</td>\n",
       "      <td>0.098698</td>\n",
       "      <td>0.363787</td>\n",
       "      <td>...</td>\n",
       "      <td>-0.018307</td>\n",
       "      <td>0.277838</td>\n",
       "      <td>-0.110474</td>\n",
       "      <td>0.066928</td>\n",
       "      <td>0.128539</td>\n",
       "      <td>-0.189115</td>\n",
       "      <td>0.133558</td>\n",
       "      <td>-0.021053</td>\n",
       "      <td>149.62</td>\n",
       "      <td>0</td>\n",
       "    </tr>\n",
       "    <tr>\n",
       "      <td>1</td>\n",
       "      <td>0.0</td>\n",
       "      <td>1.191857</td>\n",
       "      <td>0.266151</td>\n",
       "      <td>0.166480</td>\n",
       "      <td>0.448154</td>\n",
       "      <td>0.060018</td>\n",
       "      <td>-0.082361</td>\n",
       "      <td>-0.078803</td>\n",
       "      <td>0.085102</td>\n",
       "      <td>-0.255425</td>\n",
       "      <td>...</td>\n",
       "      <td>-0.225775</td>\n",
       "      <td>-0.638672</td>\n",
       "      <td>0.101288</td>\n",
       "      <td>-0.339846</td>\n",
       "      <td>0.167170</td>\n",
       "      <td>0.125895</td>\n",
       "      <td>-0.008983</td>\n",
       "      <td>0.014724</td>\n",
       "      <td>2.69</td>\n",
       "      <td>0</td>\n",
       "    </tr>\n",
       "    <tr>\n",
       "      <td>2</td>\n",
       "      <td>1.0</td>\n",
       "      <td>-1.358354</td>\n",
       "      <td>-1.340163</td>\n",
       "      <td>1.773209</td>\n",
       "      <td>0.379780</td>\n",
       "      <td>-0.503198</td>\n",
       "      <td>1.800499</td>\n",
       "      <td>0.791461</td>\n",
       "      <td>0.247676</td>\n",
       "      <td>-1.514654</td>\n",
       "      <td>...</td>\n",
       "      <td>0.247998</td>\n",
       "      <td>0.771679</td>\n",
       "      <td>0.909412</td>\n",
       "      <td>-0.689281</td>\n",
       "      <td>-0.327642</td>\n",
       "      <td>-0.139097</td>\n",
       "      <td>-0.055353</td>\n",
       "      <td>-0.059752</td>\n",
       "      <td>378.66</td>\n",
       "      <td>0</td>\n",
       "    </tr>\n",
       "    <tr>\n",
       "      <td>3</td>\n",
       "      <td>1.0</td>\n",
       "      <td>-0.966272</td>\n",
       "      <td>-0.185226</td>\n",
       "      <td>1.792993</td>\n",
       "      <td>-0.863291</td>\n",
       "      <td>-0.010309</td>\n",
       "      <td>1.247203</td>\n",
       "      <td>0.237609</td>\n",
       "      <td>0.377436</td>\n",
       "      <td>-1.387024</td>\n",
       "      <td>...</td>\n",
       "      <td>-0.108300</td>\n",
       "      <td>0.005274</td>\n",
       "      <td>-0.190321</td>\n",
       "      <td>-1.175575</td>\n",
       "      <td>0.647376</td>\n",
       "      <td>-0.221929</td>\n",
       "      <td>0.062723</td>\n",
       "      <td>0.061458</td>\n",
       "      <td>123.50</td>\n",
       "      <td>0</td>\n",
       "    </tr>\n",
       "    <tr>\n",
       "      <td>4</td>\n",
       "      <td>2.0</td>\n",
       "      <td>-1.158233</td>\n",
       "      <td>0.877737</td>\n",
       "      <td>1.548718</td>\n",
       "      <td>0.403034</td>\n",
       "      <td>-0.407193</td>\n",
       "      <td>0.095921</td>\n",
       "      <td>0.592941</td>\n",
       "      <td>-0.270533</td>\n",
       "      <td>0.817739</td>\n",
       "      <td>...</td>\n",
       "      <td>-0.009431</td>\n",
       "      <td>0.798278</td>\n",
       "      <td>-0.137458</td>\n",
       "      <td>0.141267</td>\n",
       "      <td>-0.206010</td>\n",
       "      <td>0.502292</td>\n",
       "      <td>0.219422</td>\n",
       "      <td>0.215153</td>\n",
       "      <td>69.99</td>\n",
       "      <td>0</td>\n",
       "    </tr>\n",
       "  </tbody>\n",
       "</table>\n",
       "<p>5 rows × 31 columns</p>\n",
       "</div>"
      ],
      "text/plain": [
       "   Time        V1        V2        V3        V4        V5        V6        V7  \\\n",
       "0   0.0 -1.359807 -0.072781  2.536347  1.378155 -0.338321  0.462388  0.239599   \n",
       "1   0.0  1.191857  0.266151  0.166480  0.448154  0.060018 -0.082361 -0.078803   \n",
       "2   1.0 -1.358354 -1.340163  1.773209  0.379780 -0.503198  1.800499  0.791461   \n",
       "3   1.0 -0.966272 -0.185226  1.792993 -0.863291 -0.010309  1.247203  0.237609   \n",
       "4   2.0 -1.158233  0.877737  1.548718  0.403034 -0.407193  0.095921  0.592941   \n",
       "\n",
       "         V8        V9  ...       V21       V22       V23       V24       V25  \\\n",
       "0  0.098698  0.363787  ... -0.018307  0.277838 -0.110474  0.066928  0.128539   \n",
       "1  0.085102 -0.255425  ... -0.225775 -0.638672  0.101288 -0.339846  0.167170   \n",
       "2  0.247676 -1.514654  ...  0.247998  0.771679  0.909412 -0.689281 -0.327642   \n",
       "3  0.377436 -1.387024  ... -0.108300  0.005274 -0.190321 -1.175575  0.647376   \n",
       "4 -0.270533  0.817739  ... -0.009431  0.798278 -0.137458  0.141267 -0.206010   \n",
       "\n",
       "        V26       V27       V28  Amount  Class  \n",
       "0 -0.189115  0.133558 -0.021053  149.62      0  \n",
       "1  0.125895 -0.008983  0.014724    2.69      0  \n",
       "2 -0.139097 -0.055353 -0.059752  378.66      0  \n",
       "3 -0.221929  0.062723  0.061458  123.50      0  \n",
       "4  0.502292  0.219422  0.215153   69.99      0  \n",
       "\n",
       "[5 rows x 31 columns]"
      ]
     },
     "execution_count": 2,
     "metadata": {},
     "output_type": "execute_result"
    }
   ],
   "source": [
    "df = pd.read_csv('creditcard.csv')\n",
    "df.head()"
   ]
  },
  {
   "cell_type": "code",
   "execution_count": 3,
   "metadata": {},
   "outputs": [
    {
     "name": "stdout",
     "output_type": "stream",
     "text": [
      "<class 'pandas.core.frame.DataFrame'>\n",
      "RangeIndex: 284807 entries, 0 to 284806\n",
      "Data columns (total 31 columns):\n",
      "Time      284807 non-null float64\n",
      "V1        284807 non-null float64\n",
      "V2        284807 non-null float64\n",
      "V3        284807 non-null float64\n",
      "V4        284807 non-null float64\n",
      "V5        284807 non-null float64\n",
      "V6        284807 non-null float64\n",
      "V7        284807 non-null float64\n",
      "V8        284807 non-null float64\n",
      "V9        284807 non-null float64\n",
      "V10       284807 non-null float64\n",
      "V11       284807 non-null float64\n",
      "V12       284807 non-null float64\n",
      "V13       284807 non-null float64\n",
      "V14       284807 non-null float64\n",
      "V15       284807 non-null float64\n",
      "V16       284807 non-null float64\n",
      "V17       284807 non-null float64\n",
      "V18       284807 non-null float64\n",
      "V19       284807 non-null float64\n",
      "V20       284807 non-null float64\n",
      "V21       284807 non-null float64\n",
      "V22       284807 non-null float64\n",
      "V23       284807 non-null float64\n",
      "V24       284807 non-null float64\n",
      "V25       284807 non-null float64\n",
      "V26       284807 non-null float64\n",
      "V27       284807 non-null float64\n",
      "V28       284807 non-null float64\n",
      "Amount    284807 non-null float64\n",
      "Class     284807 non-null int64\n",
      "dtypes: float64(30), int64(1)\n",
      "memory usage: 67.4 MB\n"
     ]
    }
   ],
   "source": [
    "#observe the different feature type present in the data\n",
    "\n",
    "df.info()"
   ]
  },
  {
   "cell_type": "markdown",
   "metadata": {},
   "source": [
    "No null values in the dataset and all the columns except Class are PCA transformed"
   ]
  },
  {
   "cell_type": "markdown",
   "metadata": {},
   "source": [
    "Here we will observe the distribution of our classes"
   ]
  },
  {
   "cell_type": "code",
   "execution_count": 4,
   "metadata": {},
   "outputs": [],
   "source": [
    "classes=df['Class'].value_counts()\n",
    "normal_share=classes[0]/df['Class'].count()*100\n",
    "fraud_share=classes[1]/df['Class'].count()*100"
   ]
  },
  {
   "cell_type": "code",
   "execution_count": 5,
   "metadata": {},
   "outputs": [
    {
     "data": {
      "image/png": "[encoded data removed]",
      "text/plain": [
       "<Figure size 1080x360 with 2 Axes>"
      ]
     },
     "metadata": {
      "needs_background": "light"
     },
     "output_type": "display_data"
    }
   ],
   "source": [
    "# Create a bar plot for the number and percentage of fraudulent vs non-fraudulent transcations\n",
    "percent=[normal_share, fraud_share]\n",
    "fig,ax = plt.subplots(1,2,figsize=(15,5))\n",
    "sns.countplot(x='Class',data=df,ax=ax[1]).set_title('Class Distribution')\n",
    "sns.barplot(x=df['Class'].value_counts().keys(),y=percent,data=df,ax=ax[0]).set_title('Class Percentage Dist')\n",
    "plt.show()"
   ]
  },
  {
   "cell_type": "markdown",
   "metadata": {},
   "source": [
    "So, the class 1 (Fraud transactions) are very less comparing to class 0 (Non-Fraud transactions)"
   ]
  },
  {
   "cell_type": "code",
   "execution_count": 6,
   "metadata": {},
   "outputs": [
    {
     "data": {
      "image/png": "[encoded data removed]",
      "text/plain": [
       "<Figure size 864x576 with 1 Axes>"
      ]
     },
     "metadata": {
      "needs_background": "light"
     },
     "output_type": "display_data"
    }
   ],
   "source": [
    "# Create a scatter plot to observe the distribution of classes with time\n",
    "plt.figure(figsize=(12,8))\n",
    "plt.scatter(x='Time',y='Class',data=df,c=df['Class'], alpha=0.8)\n",
    "plt.title('Distribution of classes vs time')\n",
    "plt.xlabel('Time')\n",
    "plt.ylabel('Class')\n",
    "plt.show()"
   ]
  },
  {
   "cell_type": "markdown",
   "metadata": {},
   "source": [
    "From the above plot, we can see that both the classes are distributed with time"
   ]
  },
  {
   "cell_type": "code",
   "execution_count": 7,
   "metadata": {},
   "outputs": [
    {
     "data": {
      "image/png": "[encoded data removed]",
      "text/plain": [
       "<Figure size 864x576 with 1 Axes>"
      ]
     },
     "metadata": {
      "needs_background": "light"
     },
     "output_type": "display_data"
    }
   ],
   "source": [
    "# Create a scatter plot to observe the distribution of classes with Amount\n",
    "plt.figure(figsize=(12,8))\n",
    "plt.scatter(x='Amount',y='Class',data=df,c=df['Class'], alpha=0.8)\n",
    "plt.title('Distribution of classes vs amount')\n",
    "plt.xlabel('Amount')\n",
    "plt.ylabel('Class')\n",
    "plt.show()"
   ]
  },
  {
   "cell_type": "markdown",
   "metadata": {},
   "source": [
    "From the above plot, we can see that Fraud transactions mostly happened with an amount less than 5000/-"
   ]
  },
  {
   "cell_type": "code",
   "execution_count": 8,
   "metadata": {},
   "outputs": [
    {
     "data": {
      "image/png": "[encoded data removed]",
      "text/plain": [
       "<Figure size 1080x720 with 1 Axes>"
      ]
     },
     "metadata": {
      "needs_background": "light"
     },
     "output_type": "display_data"
    }
   ],
   "source": [
    "# Create a scatter plot to observe the distribution of classes with Amount and Time\n",
    "sns.lmplot(x='Time', y='Amount',data=df, hue='Class', fit_reg=False)\n",
    "fig = plt.gcf()\n",
    "fig.set_size_inches(15, 10)\n",
    "plt.show()"
   ]
  },
  {
   "cell_type": "markdown",
   "metadata": {},
   "source": [
    "##### Above plot is speaking below points\n",
    "- Count of Fraud transactions are very very less compared to Non-Fraud transactions\n",
    "- Fraud transactions are happening on lower transaction amounts\n",
    "- Very few correct transactions with highest amounts"
   ]
  },
  {
   "cell_type": "code",
   "execution_count": 9,
   "metadata": {},
   "outputs": [
    {
     "data": {
      "image/png": "[encoded data removed]",
      "text/plain": [
       "<Figure size 432x288 with 2 Axes>"
      ]
     },
     "metadata": {
      "needs_background": "light"
     },
     "output_type": "display_data"
    }
   ],
   "source": [
    "# Create a plot to show amount per transaction by class\n",
    "f, (ax1, ax2) = plt.subplots(2, 1, sharex=True)\n",
    "f.suptitle('Amount per transaction by class')\n",
    "bins = 50\n",
    "\n",
    "ax1.hist(df[df.Class == 1].Amount, bins = bins)\n",
    "ax1.set_title('Fraud')\n",
    "ax1.grid(color='k', linestyle='-', linewidth=0.1)\n",
    "\n",
    "ax2.hist(df[df.Class == 0].Amount, bins = bins)\n",
    "ax2.set_title('Normal')\n",
    "ax2.grid(color='k', linestyle='-', linewidth=0.1)\n",
    "\n",
    "plt.xlabel('Amount ($)')\n",
    "plt.ylabel('Number of Transactions')\n",
    "plt.xlim((0, 20000))\n",
    "plt.yscale('log')\n",
    "plt.show()"
   ]
  },
  {
   "cell_type": "markdown",
   "metadata": {},
   "source": [
    "\n",
    "We can see that Normal has more number of transactions over Amount when compared to Fraud Transactions."
   ]
  },
  {
   "cell_type": "code",
   "execution_count": 10,
   "metadata": {},
   "outputs": [],
   "source": [
    "# Drop unnecessary columns\n",
    "df = df.drop('Time',axis=1)"
   ]
  },
  {
   "cell_type": "markdown",
   "metadata": {},
   "source": [
    "### Splitting the data into train & test data"
   ]
  },
  {
   "cell_type": "code",
   "execution_count": 11,
   "metadata": {},
   "outputs": [],
   "source": [
    "y= df.pop('Class') #class variable"
   ]
  },
  {
   "cell_type": "markdown",
   "metadata": {},
   "source": [
    "While splitting the data, we are using `stratify` just to make sure that both train and test will have equal percentage of classeses "
   ]
  },
  {
   "cell_type": "code",
   "execution_count": 12,
   "metadata": {},
   "outputs": [],
   "source": [
    "from sklearn import model_selection\n",
    "\n",
    "X_train, X_test, y_train, y_test = model_selection.train_test_split(df,y, train_size = 0.7, test_size = 0.3, random_state = 100, stratify=y)"
   ]
  },
  {
   "cell_type": "markdown",
   "metadata": {},
   "source": [
    "##### Preserve X_test & y_test to evaluate on the test data once you build the model"
   ]
  },
  {
   "cell_type": "code",
   "execution_count": 13,
   "metadata": {
    "scrolled": true
   },
   "outputs": [
    {
     "name": "stdout",
     "output_type": "stream",
     "text": [
      "492\n",
      "344\n",
      "148\n"
     ]
    }
   ],
   "source": [
    "print(np.sum(y))\n",
    "print(np.sum(y_train))\n",
    "print(np.sum(y_test))"
   ]
  },
  {
   "cell_type": "markdown",
   "metadata": {},
   "source": [
    "### Plotting the distribution of a variable"
   ]
  },
  {
   "cell_type": "code",
   "execution_count": 14,
   "metadata": {},
   "outputs": [
    {
     "data": {
      "image/png": "[encoded data removed]",
      "text/plain": [
       "<Figure size 1440x864 with 6 Axes>"
      ]
     },
     "metadata": {
      "needs_background": "light"
     },
     "output_type": "display_data"
    }
   ],
   "source": [
    "# plot the histogram of a variable from the dataset to see the skewness\n",
    "plt.figure(figsize=(20, 12))\n",
    "plt.subplot(2,3,1)\n",
    "sns.distplot(df['V1'])\n",
    "plt.subplot(2,3,2)\n",
    "sns.distplot(df['V10'])\n",
    "plt.subplot(2,3,3)\n",
    "sns.distplot(df['V18'])\n",
    "plt.subplot(2,3,4)\n",
    "sns.distplot(df['V28'])\n",
    "plt.subplot(2,3,5)\n",
    "sns.distplot(df['Amount'])\n",
    "plt.subplot(2,3,6)\n",
    "sns.distplot(y)\n",
    "plt.show()"
   ]
  },
  {
   "cell_type": "markdown",
   "metadata": {},
   "source": [
    "Although all the features are PCA transformed, we can clearly see skewness from the above plots..."
   ]
  },
  {
   "cell_type": "markdown",
   "metadata": {},
   "source": [
    "### If there is skewness present in the distribution use:\n",
    "- <b>Power Transformer</b> package present in the <b>preprocessing library provided by sklearn</b> to make distribution more gaussian"
   ]
  },
  {
   "cell_type": "code",
   "execution_count": 15,
   "metadata": {},
   "outputs": [
    {
     "name": "stdout",
     "output_type": "stream",
     "text": [
      "[[ 1.44569155 -0.17985939 -0.82537101 ... -0.21338865 -0.18593313\n",
      "  -1.44748939]\n",
      " [-0.1685569   0.70771555 -0.415595   ...  0.57666235  0.28299091\n",
      "  -1.13077718]\n",
      " [ 1.54055149  0.05920404 -1.39766213 ... -0.23217377 -0.20541154\n",
      "  -0.86502161]\n",
      " ...\n",
      " [ 0.44926405 -0.65653239  0.44059444 ...  0.09733236  0.20682708\n",
      "   1.18854512]\n",
      " [ 0.22075551 -0.98861027  0.05561301 ... -0.18686459  0.25017814\n",
      "   1.56343857]\n",
      " [-0.45562581  0.76260283  0.24868191 ... -0.11534124 -1.54276014\n",
      "  -1.31557838]]\n",
      "[[-0.55395099  0.91160093 -0.11928654 ... -0.12977515  0.17955064\n",
      "   0.90076267]\n",
      " [ 0.02609086  1.26869257 -1.43424809 ...  0.29394533 -0.17958052\n",
      "  -0.43072205]\n",
      " [ 1.44914779 -0.05637223 -0.93523866 ... -0.05895154 -0.15948888\n",
      "  -0.40288819]\n",
      " ...\n",
      " [ 0.40730679 -0.2662729   0.14250171 ...  0.07984482 -0.00433223\n",
      "   0.40504099]\n",
      " [-1.78794338 -1.85749671  1.25787403 ...  2.06920383  0.27978279\n",
      "   0.7051672 ]\n",
      " [-2.52591184  4.32254435 -3.31579382 ... -3.14361737  0.7478174\n",
      "   0.81119126]]\n",
      "[[-0.04157487]\n",
      " [-0.04157487]\n",
      " [-0.04157487]\n",
      " ...\n",
      " [-0.04157487]\n",
      " [-0.04157487]\n",
      " [-0.04157487]]\n",
      "[[-0.04157487]\n",
      " [-0.04157487]\n",
      " [-0.04157487]\n",
      " ...\n",
      " [-0.04157487]\n",
      " [-0.04157487]\n",
      " [-0.04157487]]\n"
     ]
    }
   ],
   "source": [
    "# - Apply : preprocessing.PowerTransformer(copy=False) to fit & transform the train & test data\n",
    "from sklearn.preprocessing import PowerTransformer\n",
    "pt = PowerTransformer(method='yeo-johnson',copy=False)\n",
    "print(pt.fit_transform(X_train))\n",
    "print(pt.transform(X_test))\n",
    "print(pt.fit_transform(y_train.values.reshape(-1,1)))\n",
    "print(pt.transform(y_test.values.reshape(-1,1)))"
   ]
  },
  {
   "cell_type": "code",
   "execution_count": 16,
   "metadata": {},
   "outputs": [
    {
     "data": {
      "image/png": "[encoded data removed]",
      "text/plain": [
       "<Figure size 1440x864 with 6 Axes>"
      ]
     },
     "metadata": {
      "needs_background": "light"
     },
     "output_type": "display_data"
    }
   ],
   "source": [
    "# plot the histogram of a variable from the dataset again to see the result \n",
    "plt.figure(figsize=(20, 12))\n",
    "plt.subplot(2,3,1)\n",
    "sns.distplot(df['V1'])\n",
    "plt.subplot(2,3,2)\n",
    "sns.distplot(df['V10'])\n",
    "plt.subplot(2,3,3)\n",
    "sns.distplot(df['V18'])\n",
    "plt.subplot(2,3,4)\n",
    "sns.distplot(df['V28'])\n",
    "plt.subplot(2,3,5)\n",
    "sns.distplot(df['Amount'])\n",
    "plt.subplot(2,3,6)\n",
    "sns.distplot(y)\n",
    "plt.show()"
   ]
  },
  {
   "cell_type": "markdown",
   "metadata": {},
   "source": [
    "From the above histograms, it was clear that we have removed skewness using Power Transformers"
   ]
  },
  {
   "cell_type": "markdown",
   "metadata": {},
   "source": [
    "## Model Building\n",
    "- Build different models on the imbalanced dataset and see the result"
   ]
  },
  {
   "cell_type": "markdown",
   "metadata": {},
   "source": [
    "###### Create a function `RandomSearch` to perform RandomizedSearchCV for any model"
   ]
  },
  {
   "cell_type": "code",
   "execution_count": 17,
   "metadata": {},
   "outputs": [],
   "source": [
    "#imports\n",
    "import warnings\n",
    "warnings.filterwarnings('ignore')\n",
    "\n",
    "from sklearn.model_selection import RandomizedSearchCV\n",
    "\n",
    "#Create a function to perform RandomizedSearchCV for any model\n",
    "def RandomSearch(estimator, hyper_params, X, y):\n",
    "    cv_num = 3 \n",
    "    #RandomizedSearchCV\n",
    "    model = RandomizedSearchCV(estimator,\n",
    "                               param_distributions=hyper_params,\n",
    "                               cv = cv_num,\n",
    "                               verbose = 1,\n",
    "                               n_jobs = -1,\n",
    "                               n_iter = 100,\n",
    "                               error_score = 'raise',\n",
    "                               return_train_score=True)\n",
    "    model.fit(X,y)\n",
    "    return print('Best roc_auc : {:.4}, with best C: {}'.format(model.best_score_, model.best_params_))"
   ]
  },
  {
   "cell_type": "markdown",
   "metadata": {},
   "source": [
    "#### perfom cross validation on the X_train & y_train to create:\n",
    "- X_train_cv\n",
    "- X_test_cv \n",
    "- y_train_cv\n",
    "- y_test_cv "
   ]
  },
  {
   "cell_type": "markdown",
   "metadata": {},
   "source": [
    "###### Create a function `StratifiedFolds` to perform StratifiedKFolds and to return predicted metrics for any model"
   ]
  },
  {
   "cell_type": "code",
   "execution_count": 18,
   "metadata": {},
   "outputs": [],
   "source": [
    "#imports\n",
    "import warnings\n",
    "warnings.filterwarnings(\"ignore\")\n",
    "\n",
    "from sklearn.model_selection import StratifiedKFold\n",
    "from sklearn.metrics import classification_report, confusion_matrix\n",
    "\n",
    "def StratifiedFolds(X, y, model):\n",
    "    # create folds\n",
    "    folds = StratifiedKFold(n_splits=3, shuffle=True, random_state=50)\n",
    "    \n",
    "    # train model for every fold\n",
    "    cv_score =[]\n",
    "    i=1\n",
    "    for train_idx, test_idx in folds.split(X,y):\n",
    "        print('{} of KFold {}'.format(i,folds.n_splits))\n",
    "        X_train_cv = X.iloc[list(train_idx)]\n",
    "        y_train_cv = y.iloc[list(train_idx)]\n",
    "        X_test_cv = X.iloc[list(test_idx)]\n",
    "        y_test_cv= y.iloc[list(test_idx)]\n",
    "    \n",
    "        model.fit(X_train_cv,y_train_cv)\n",
    "        score = metrics.roc_auc_score(y_test_cv,model.predict(X_test_cv))\n",
    "        print('ROC AUC score: {:.4}'.format(score))\n",
    "        cv_score.append(score)\n",
    "        i+=1\n",
    "    print('\\nMean ROC AUC score: {:.4}'.format(np.mean(cv_score)))\n",
    "    \n",
    "    #predict probability on train_cv\n",
    "    y_pred = model.predict_proba(X_train_cv)\n",
    "    print(\"\\nRoc for y_train_cv vs y_pred for your model: {:.4}\\n\".format(metrics.roc_auc_score(y_train_cv,y_pred[:,1])))\n",
    "    \n",
    "    \n",
    "    #predict probability on test_cv\n",
    "    y_pred = model.predict_proba(X_test_cv)\n",
    "    print(\"\\nRoc for y_test_cv vs y_pred for your model: {:.4}\\n\".format(metrics.roc_auc_score(y_test_cv,y_pred[:,1])))\n",
    "    \n",
    "    preds=model.predict(X_test_cv)\n",
    "    \n",
    "    #Classification report and Confusion matrix\n",
    "    print(classification_report(y_test_cv,preds))\n",
    "    print(pd.DataFrame(confusion_matrix(y_test_cv, preds),\n",
    "                 columns=['Predicted Non-Fraud', 'Predicted Fraud'],\n",
    "                 index=['Actual Non-Fraud', 'Actual Fraud']))"
   ]
  },
  {
   "cell_type": "markdown",
   "metadata": {},
   "source": [
    "##### Let's build a model with Logistic Regression"
   ]
  },
  {
   "cell_type": "code",
   "execution_count": 19,
   "metadata": {},
   "outputs": [
    {
     "name": "stdout",
     "output_type": "stream",
     "text": [
      "Fitting 3 folds for each of 28 candidates, totalling 84 fits\n"
     ]
    },
    {
     "name": "stderr",
     "output_type": "stream",
     "text": [
      "[Parallel(n_jobs=-1)]: Using backend LokyBackend with 8 concurrent workers.\n",
      "[Parallel(n_jobs=-1)]: Done  34 tasks      | elapsed:   24.1s\n",
      "[Parallel(n_jobs=-1)]: Done  84 out of  84 | elapsed:  1.5min finished\n"
     ]
    },
    {
     "name": "stdout",
     "output_type": "stream",
     "text": [
      "Best roc_auc : 0.9993, with best C: {'penalty': 'l1', 'C': 0.5}\n"
     ]
    }
   ],
   "source": [
    "#import model\n",
    "from sklearn.linear_model import LogisticRegression\n",
    "\n",
    "#define model\n",
    "lr = LogisticRegression(solver='liblinear')\n",
    "\n",
    "#define hyper_parameters\n",
    "num_C = [0.001,0.003,0.005,0.01,0.03,0.05,0.1,0.3,0.5,1,5,10,100,1000]  #--> list of values\n",
    "hyper_params = {'C':num_C, 'penalty':['l1','l2']}\n",
    "\n",
    "#call RandomSearch function\n",
    "RandomSearch(lr,hyper_params,X_train,y_train)"
   ]
  },
  {
   "cell_type": "code",
   "execution_count": 20,
   "metadata": {},
   "outputs": [
    {
     "name": "stdout",
     "output_type": "stream",
     "text": [
      "1 of KFold 3\n",
      "ROC AUC score: 0.8173\n",
      "2 of KFold 3\n",
      "ROC AUC score: 0.8521\n",
      "3 of KFold 3\n",
      "ROC AUC score: 0.8333\n",
      "\n",
      "Mean ROC AUC score: 0.8342\n",
      "\n",
      "Roc for y_train_cv vs y_pred for your model: 0.9852\n",
      "\n",
      "\n",
      "Roc for y_test_cv vs y_pred for your model: 0.9724\n",
      "\n",
      "              precision    recall  f1-score   support\n",
      "\n",
      "           0       1.00      1.00      1.00     66340\n",
      "           1       0.87      0.67      0.76       114\n",
      "\n",
      "    accuracy                           1.00     66454\n",
      "   macro avg       0.94      0.83      0.88     66454\n",
      "weighted avg       1.00      1.00      1.00     66454\n",
      "\n",
      "                  Predicted Non-Fraud  Predicted Fraud\n",
      "Actual Non-Fraud                66329               11\n",
      "Actual Fraud                       38               76\n"
     ]
    }
   ],
   "source": [
    "#Use the best parameters of the model obtained and do cross-validation\n",
    "lr=LogisticRegression(penalty= 'l1', C= 0.5, solver='liblinear')\n",
    "StratifiedFolds(X_train,y_train,lr)"
   ]
  },
  {
   "cell_type": "markdown",
   "metadata": {},
   "source": [
    "### Similarly explore other algorithms by building models like:\n",
    "- KNN\n",
    "- SVM\n",
    "- Decision Tree\n",
    "- Random Forest\n",
    "- XGBoost"
   ]
  },
  {
   "cell_type": "markdown",
   "metadata": {},
   "source": [
    "##### Let's build a model with Random Forests"
   ]
  },
  {
   "cell_type": "code",
   "execution_count": 21,
   "metadata": {},
   "outputs": [
    {
     "name": "stdout",
     "output_type": "stream",
     "text": [
      "Fitting 3 folds for each of 8 candidates, totalling 24 fits\n"
     ]
    },
    {
     "name": "stderr",
     "output_type": "stream",
     "text": [
      "[Parallel(n_jobs=-1)]: Using backend LokyBackend with 8 concurrent workers.\n",
      "[Parallel(n_jobs=-1)]: Done  24 out of  24 | elapsed: 33.3min finished\n"
     ]
    },
    {
     "name": "stdout",
     "output_type": "stream",
     "text": [
      "Best roc_auc : 0.9995, with best C: {'min_samples_split': 2, 'min_samples_leaf': 1, 'max_depth': 21}\n"
     ]
    }
   ],
   "source": [
    "#import model\n",
    "from sklearn.ensemble import RandomForestClassifier\n",
    "\n",
    "#define model\n",
    "rf = RandomForestClassifier(warm_start=True,n_estimators=300)\n",
    "\n",
    "#define hyper_parameters\n",
    "hyper_params = {'max_depth':[9,21],'min_samples_leaf':[1,5],'min_samples_split':[2,8]}\n",
    "\n",
    "#call RandomSearch function\n",
    "RandomSearch(rf,hyper_params,X_train,y_train)"
   ]
  },
  {
   "cell_type": "code",
   "execution_count": 22,
   "metadata": {},
   "outputs": [
    {
     "name": "stdout",
     "output_type": "stream",
     "text": [
      "1 of KFold 3\n",
      "ROC AUC score: 0.8652\n",
      "2 of KFold 3\n",
      "ROC AUC score: 1.0\n",
      "3 of KFold 3\n",
      "ROC AUC score: 1.0\n",
      "\n",
      "Mean ROC AUC score: 0.9551\n",
      "\n",
      "Roc for y_train_cv vs y_pred for your model: 0.9809\n",
      "\n",
      "\n",
      "Roc for y_test_cv vs y_pred for your model: 1.0\n",
      "\n",
      "              precision    recall  f1-score   support\n",
      "\n",
      "           0       1.00      1.00      1.00     66340\n",
      "           1       1.00      1.00      1.00       114\n",
      "\n",
      "    accuracy                           1.00     66454\n",
      "   macro avg       1.00      1.00      1.00     66454\n",
      "weighted avg       1.00      1.00      1.00     66454\n",
      "\n",
      "                  Predicted Non-Fraud  Predicted Fraud\n",
      "Actual Non-Fraud                66340                0\n",
      "Actual Fraud                        0              114\n"
     ]
    }
   ],
   "source": [
    "#Use the best parameters of the model obtained and do cross-validation\n",
    "rf=RandomForestClassifier(min_samples_split= 2, min_samples_leaf= 1, max_depth= 21,warm_start=True,n_estimators=300)\n",
    "StratifiedFolds(X_train,y_train,rf)"
   ]
  },
  {
   "cell_type": "markdown",
   "metadata": {},
   "source": [
    "##### Let's build a model with XG Boosting"
   ]
  },
  {
   "cell_type": "code",
   "execution_count": null,
   "metadata": {},
   "outputs": [
    {
     "name": "stdout",
     "output_type": "stream",
     "text": [
      "Fitting 3 folds for each of 81 candidates, totalling 243 fits\n"
     ]
    },
    {
     "name": "stderr",
     "output_type": "stream",
     "text": [
      "[Parallel(n_jobs=-1)]: Using backend LokyBackend with 8 concurrent workers.\n",
      "[Parallel(n_jobs=-1)]: Done  34 tasks      | elapsed: 15.1min\n"
     ]
    }
   ],
   "source": [
    "#import model\n",
    "from xgboost import XGBClassifier\n",
    "#from xgboost.xgbclassifier import XGBClassifier\n",
    "#define model\n",
    "xgb = XGBClassifier()\n",
    "\n",
    "#perform hyperparameter tuning\n",
    "hyper_params = {'n_estimators': [100],'min_child_weight': [1, 5, 10], 'gamma': [1, 2, 5], \n",
    "                'learning_rate':[0.001, 0.01, 0.1],'max_depth': [7, 14, 21]}\n",
    "\n",
    "#call RandomSearch function\n",
    "RandomSearch(xgb,hyper_params,X_train,y_train)"
   ]
  },
  {
   "cell_type": "code",
   "execution_count": null,
   "metadata": {},
   "outputs": [],
   "source": [
    "#Use the best parameters of the model obtained and do cross-validation\n",
    "xgb=XGBClassifier(n_estimators= 100, min_child_weight= 1, max_depth=14, learning_rate=0.1, gamma=2)\n",
    "StratifiedFolds(X_train,y_train,xgb)"
   ]
  },
  {
   "cell_type": "markdown",
   "metadata": {},
   "source": [
    "#### Proceed with the model which shows the best result \n",
    "- Apply the best hyperparameter on the model\n",
    "- Predict on the test dataset"
   ]
  },
  {
   "cell_type": "markdown",
   "metadata": {},
   "source": [
    "XGB Classifier provided best AOC metrics.. So, applying that model to predict on test dataset"
   ]
  },
  {
   "cell_type": "code",
   "execution_count": null,
   "metadata": {},
   "outputs": [],
   "source": [
    "clf = XGBClassifier(n_estimators= 100, min_child_weight= 1, max_depth=14, learning_rate=0.1, gamma=2)  #initialise the model with optimum hyperparameters\n",
    "clf.fit(X_train, y_train)\n",
    "\n",
    "#predict probability on train_cv\n",
    "y_pred = clf.predict_proba(X_train)\n",
    "print(\"\\nRoc for y_train vs y_pred for your model: {:.4}\\n\".format(metrics.roc_auc_score(y_train,y_pred[:,1])))\n",
    "    \n",
    "    \n",
    "#predict probability on test_cv\n",
    "y_pred = clf.predict_proba(X_test)\n",
    "print(\"\\nRoc for y_test vs y_pred for your model: {:.4}\\n\".format(metrics.roc_auc_score(y_test,y_pred[:,1])))\n",
    "    \n",
    "preds=clf.predict(X_test)\n",
    "    \n",
    "#Classification report and Confusion matrix\n",
    "print(classification_report(y_test,preds))\n",
    "print(pd.DataFrame(confusion_matrix(y_test, preds),\n",
    "                 columns=['Predicted Non-Fraud', 'Predicted Fraud'],\n",
    "                 index=['Actual Non-Fraud', 'Actual Fraud']))\n",
    "#print --> #print the evaluation score on the X_test by choosing the best evaluation metric"
   ]
  },
  {
   "cell_type": "markdown",
   "metadata": {},
   "source": [
    "### Print the important features of the best model to understand the dataset\n",
    "- This will not give much explanation on the already transformed dataset\n",
    "- But it will help us in understanding if the dataset is not PCA transformed"
   ]
  },
  {
   "cell_type": "code",
   "execution_count": null,
   "metadata": {},
   "outputs": [],
   "source": [
    "var_imp = []\n",
    "for i in clf.feature_importances_:\n",
    "    var_imp.append(i)\n",
    "print('Top var =', var_imp.index(np.sort(clf.feature_importances_)[-1])+1)\n",
    "print('2nd Top var =', var_imp.index(np.sort(clf.feature_importances_)[-2])+1)\n",
    "print('3rd Top var =', var_imp.index(np.sort(clf.feature_importances_)[-3])+1)\n",
    "\n",
    "# Variable on Index-16 and Index-13 seems to be the top 2 variables\n",
    "top_var_index = var_imp.index(np.sort(clf.feature_importances_)[-1])\n",
    "second_top_var_index = var_imp.index(np.sort(clf.feature_importances_)[-2])\n",
    "\n",
    "X_train_1 = X_train.to_numpy()[np.where(y_train==1.0)]\n",
    "X_train_0 = X_train.to_numpy()[np.where(y_train==0.0)]\n",
    "\n",
    "np.random.shuffle(X_train_0)\n",
    "\n",
    "import matplotlib.pyplot as plt\n",
    "%matplotlib inline\n",
    "plt.rcParams['figure.figsize'] = [20, 20]\n",
    "\n",
    "plt.scatter(X_train_1[:, top_var_index], X_train_1[:, second_top_var_index], label='Actual Class-1 Examples')\n",
    "plt.scatter(X_train_0[:X_train_1.shape[0], top_var_index], X_train_0[:X_train_1.shape[0], second_top_var_index],\n",
    "            label='Actual Class-0 Examples')\n",
    "plt.legend()"
   ]
  },
  {
   "cell_type": "markdown",
   "metadata": {},
   "source": [
    "## Model building with balancing Classes\n",
    "\n",
    "##### Perform class balancing with :\n",
    "- Random Oversampling\n",
    "- SMOTE\n",
    "- ADASYN"
   ]
  },
  {
   "cell_type": "markdown",
   "metadata": {},
   "source": [
    "## Model Building\n",
    "- Build different models on the balanced dataset and see the result"
   ]
  },
  {
   "cell_type": "markdown",
   "metadata": {},
   "source": [
    "### Random Oversampling"
   ]
  },
  {
   "cell_type": "code",
   "execution_count": null,
   "metadata": {},
   "outputs": [],
   "source": [
    "from imblearn import over_sampling #- import the packages\n",
    "random_os = over_sampling.RandomOverSampler(sampling_strategy='minority')\n",
    "X_train_os, y_train_os = random_os.fit_resample(X_train,y_train)\n",
    "print(dict(y_train.value_counts(sort=False)))\n",
    "print(dict(y_train_os.value_counts(sort=False)))"
   ]
  },
  {
   "cell_type": "markdown",
   "metadata": {},
   "source": [
    "#### perfom cross validation on the X_train & y_train to create:\n",
    "- X_train_cv\n",
    "- X_test_cv \n",
    "- y_train_cv\n",
    "- y_test_cv "
   ]
  },
  {
   "cell_type": "markdown",
   "metadata": {},
   "source": [
    "##### Let's build a model with Logistic Regression"
   ]
  },
  {
   "cell_type": "code",
   "execution_count": null,
   "metadata": {
    "scrolled": true
   },
   "outputs": [],
   "source": [
    "#import model\n",
    "from sklearn.linear_model import LogisticRegression\n",
    "\n",
    "#define model\n",
    "lr_os = LogisticRegression(solver='liblinear')\n",
    "\n",
    "#define hyper_parameters\n",
    "num_C = [0.001,0.003,0.005,0.01,0.03, 0.1,0.3,0.5,1,5,10,100,1000]  #--> list of values\n",
    "hyper_params = {'C':num_C, 'penalty':['l1','l2']}\n",
    "\n",
    "#call RandomSearch function\n",
    "RandomSearch(lr_os,hyper_params,X_train_os,y_train_os)"
   ]
  },
  {
   "cell_type": "code",
   "execution_count": null,
   "metadata": {},
   "outputs": [],
   "source": [
    "#Use the best parameters of the model obtained and do cross-validation\n",
    "lr_os=LogisticRegression(penalty= 'l2', C= 0.3,solver='liblinear')\n",
    "StratifiedFolds(X_train_os,y_train_os,lr_os)"
   ]
  },
  {
   "cell_type": "markdown",
   "metadata": {},
   "source": [
    "### Similarly explore other algorithms on balanced dataset by building models like:\n",
    "- KNN\n",
    "- SVM\n",
    "- Decision Tree\n",
    "- Random Forest\n",
    "- XGBoost"
   ]
  },
  {
   "cell_type": "markdown",
   "metadata": {},
   "source": [
    "##### Let's build a model with Random Forest"
   ]
  },
  {
   "cell_type": "code",
   "execution_count": null,
   "metadata": {},
   "outputs": [],
   "source": [
    "#import model\n",
    "from sklearn.ensemble import RandomForestClassifier\n",
    "\n",
    "#define model\n",
    "rf_os = RandomForestClassifier(warm_start=True,n_estimators=300)\n",
    "\n",
    "#define hyper_parameters\n",
    "hyper_params = {'max_depth':[9,21], 'min_samples_leaf':[1,5],'min_samples_split':[2,8]}\n",
    "\n",
    "#call RandomSearch function\n",
    "RandomSearch(rf_os,hyper_params,X_train_os,y_train_os)"
   ]
  },
  {
   "cell_type": "code",
   "execution_count": null,
   "metadata": {},
   "outputs": [],
   "source": [
    "#Use the best parameters of the model obtained and do cross-validation\n",
    "rf_os=RandomForestClassifier(min_samples_split= 8, min_samples_leaf= 1, max_depth= 21,warm_start=True,n_estimators=300)\n",
    "StratifiedFolds(X_train_os,y_train_os,rf_os)"
   ]
  },
  {
   "cell_type": "markdown",
   "metadata": {},
   "source": [
    "##### Let's build a model with XG Boosting"
   ]
  },
  {
   "cell_type": "code",
   "execution_count": null,
   "metadata": {},
   "outputs": [],
   "source": [
    "#import model\n",
    "from xgboost import XGBClassifier\n",
    "\n",
    "#define model\n",
    "xgb_os = XGBClassifier(n_estimators=200,gamma=2)\n",
    "\n",
    "#perform hyperparameter tuning\n",
    "hyper_params = {'min_child_weight': [1, 5],'learning_rate':[0.1,1],'max_depth': [8,16]}\n",
    "\n",
    "#call RandomSearch function\n",
    "RandomSearch(xgb_os,hyper_params,X_train_os,y_train_os)"
   ]
  },
  {
   "cell_type": "code",
   "execution_count": null,
   "metadata": {},
   "outputs": [],
   "source": [
    "#Use the best parameters of the model obtained and do cross-validation\n",
    "xgb_os=XGBClassifier(min_child_weight= 1, max_depth= 8, learning_rate= 0.1,n_estimators=200,gamma=2)\n",
    "StratifiedFolds(X_train_os,y_train_os,xgb_os)"
   ]
  },
  {
   "cell_type": "markdown",
   "metadata": {},
   "source": [
    "### Print the class distribution after applying SMOTE "
   ]
  },
  {
   "cell_type": "code",
   "execution_count": null,
   "metadata": {},
   "outputs": [],
   "source": [
    "import warnings\n",
    "warnings.filterwarnings(\"ignore\")\n",
    "\n",
    "\n",
    "sm = over_sampling.SMOTE(random_state=0)\n",
    "X_train_smote, y_train_smote = sm.fit_resample(X_train, y_train)\n",
    "# Artificial minority samples and corresponding minority labels from SMOTE are appended\n",
    "# below X_train and y_train respectively\n",
    "# So to exclusively get the artificial minority samples from SMOTE, we do\n",
    "X_train_smote_1 = X_train_smote[X_train.shape[0]:]\n",
    "\n",
    "X_train_1 = X_train.to_numpy()[np.where(y_train==1.0)]\n",
    "X_train_0 = X_train.to_numpy()[np.where(y_train==0.0)]\n",
    "\n",
    "plt.rcParams['figure.figsize'] = [20, 20]\n",
    "fig = plt.figure()\n",
    "\n",
    "plt.subplot(3, 1, 1)\n",
    "plt.scatter(X_train_1[:, 0], X_train_1[:, 1], label='Actual Class-1 Examples')\n",
    "plt.legend()\n",
    "\n",
    "plt.subplot(3, 1, 2)\n",
    "plt.scatter(X_train_1[:, 0], X_train_1[:, 1], label='Actual Class-1 Examples')\n",
    "plt.scatter(X_train_smote_1.iloc[:X_train_1.shape[0], 0], X_train_smote_1.iloc[:X_train_1.shape[0], 1],label='Artificial SMOTE Class-1 Examples')\n",
    "plt.legend()\n",
    "\n",
    "plt.subplot(3, 1, 3)\n",
    "plt.scatter(X_train_1[:, 0], X_train_1[:, 1], label='Actual Class-1 Examples')\n",
    "plt.scatter(X_train_0[:X_train_1.shape[0], 0], X_train_0[:X_train_1.shape[0], 1], label='Actual Class-0 Examples')\n",
    "plt.legend()"
   ]
  },
  {
   "cell_type": "markdown",
   "metadata": {},
   "source": [
    "##### Let's build a model with Logistic Regression"
   ]
  },
  {
   "cell_type": "code",
   "execution_count": null,
   "metadata": {},
   "outputs": [],
   "source": [
    "#import model\n",
    "from sklearn.linear_model import LogisticRegression\n",
    "\n",
    "#define model\n",
    "lr_smote = LogisticRegression(solver='liblinear')\n",
    "\n",
    "#define hyper_parameters\n",
    "num_C = [0.001,0.003,0.005,0.01,0.03,0.1,0.3,0.5,1,5,10,100,1000]  #--> list of values\n",
    "hyper_params = {'C':num_C, 'penalty':['l1','l2']}\n",
    "\n",
    "#call RandomSearch function\n",
    "RandomSearch(lr_smote,hyper_params,X_train_smote,y_train_smote)"
   ]
  },
  {
   "cell_type": "code",
   "execution_count": null,
   "metadata": {},
   "outputs": [],
   "source": [
    "#Use the best parameters of the model obtained and do cross-validation\n",
    "lr_smote=LogisticRegression(penalty= 'l1', C= 0.01,solver='liblinear')\n",
    "StratifiedFolds(X_train_smote,y_train_smote,lr_smote)"
   ]
  },
  {
   "cell_type": "markdown",
   "metadata": {},
   "source": [
    "##### Build models on other algorithms to see the better performing on SMOTE"
   ]
  },
  {
   "cell_type": "markdown",
   "metadata": {},
   "source": [
    "##### Let's build a model with Random Forest"
   ]
  },
  {
   "cell_type": "code",
   "execution_count": null,
   "metadata": {},
   "outputs": [],
   "source": [
    "#import model\n",
    "from sklearn.ensemble import RandomForestClassifier\n",
    "\n",
    "#define model\n",
    "rf_smote = RandomForestClassifier(warm_start=True,n_estimators=300)\n",
    "\n",
    "#define hyper_parameters\n",
    "hyper_params = {'max_depth':[9,21], 'min_samples_leaf':[1,5],'min_samples_split':[2,8]}\n",
    "\n",
    "#call RandomSearch function\n",
    "RandomSearch(rf_smote,hyper_params,X_train_smote,y_train_smote)"
   ]
  },
  {
   "cell_type": "code",
   "execution_count": null,
   "metadata": {},
   "outputs": [],
   "source": [
    "#Use the best parameters of the model obtained and do cross-validation\n",
    "rf_smote=RandomForestClassifier(min_samples_split= 2, min_samples_leaf= 1, max_depth= 21,warm_start=True,n_estimators=300)\n",
    "StratifiedFolds(X_train_smote,y_train_smote,rf_smote)"
   ]
  },
  {
   "cell_type": "markdown",
   "metadata": {},
   "source": [
    "##### Let's build a model with XG Boosting"
   ]
  },
  {
   "cell_type": "code",
   "execution_count": null,
   "metadata": {
    "scrolled": true
   },
   "outputs": [],
   "source": [
    "#import model\n",
    "from xgboost import XGBClassifier\n",
    "\n",
    "#define model\n",
    "xgb_smote = XGBClassifier(n_estimators=200,gamma=2)\n",
    "\n",
    "#perform hyperparameter tuning\n",
    "hyper_params = {'min_child_weight': [1, 5],'learning_rate':[0.1,1],'max_depth': [8,16]}\n",
    "\n",
    "#call RandomSearch function\n",
    "RandomSearch(xgb_smote,hyper_params,X_train_smote,y_train_smote)"
   ]
  },
  {
   "cell_type": "code",
   "execution_count": null,
   "metadata": {},
   "outputs": [],
   "source": [
    "#Use the best parameters of the model obtained and do cross-validation\n",
    "xgb_smote=XGBClassifier(min_child_weight= 1, max_depth= 8, learning_rate= 0.1,n_estimators=200,gamma=2,warm_start=True)\n",
    "StratifiedFolds(X_train_smote,y_train_smote,xgb_smote)"
   ]
  },
  {
   "cell_type": "markdown",
   "metadata": {},
   "source": [
    "### Print the class distribution after applying ADASYN"
   ]
  },
  {
   "cell_type": "code",
   "execution_count": null,
   "metadata": {},
   "outputs": [],
   "source": [
    "import warnings\n",
    "warnings.filterwarnings(\"ignore\")\n",
    "\n",
    "from imblearn import over_sampling\n",
    "\n",
    "ada = over_sampling.ADASYN(random_state=0)\n",
    "X_train_adasyn, y_train_adasyn = ada.fit_resample(X_train, y_train)\n",
    "# Artificial minority samples and corresponding minority labels from ADASYN are appended\n",
    "# below X_train and y_train respectively\n",
    "# So to exclusively get the artificial minority samples from ADASYN, we do\n",
    "X_train_adasyn_1 = X_train_adasyn[X_train.shape[0]:]\n",
    "\n",
    "X_train_1 = X_train.to_numpy()[np.where(y_train==1.0)]\n",
    "X_train_0 = X_train.to_numpy()[np.where(y_train==0.0)]\n",
    "\n",
    "\n",
    "\n",
    "import matplotlib.pyplot as plt\n",
    "%matplotlib inline\n",
    "plt.rcParams['figure.figsize'] = [20, 20]\n",
    "fig = plt.figure()\n",
    "\n",
    "plt.subplot(3, 1, 1)\n",
    "plt.scatter(X_train_1[:, 0], X_train_1[:, 1], label='Actual Class-1 Examples')\n",
    "plt.legend()\n",
    "\n",
    "plt.subplot(3, 1, 2)\n",
    "plt.scatter(X_train_1[:, 0], X_train_1[:, 1], label='Actual Class-1 Examples')\n",
    "plt.scatter(X_train_adasyn_1.iloc[:X_train_1.shape[0], 0], X_train_adasyn_1.iloc[:X_train_1.shape[0], 1],\n",
    "            label='Artificial ADASYN Class-1 Examples')\n",
    "plt.legend()\n",
    "\n",
    "plt.subplot(3, 1, 3)\n",
    "plt.scatter(X_train_1[:, 0], X_train_1[:, 1], label='Actual Class-1 Examples')\n",
    "plt.scatter(X_train_0[:X_train_1.shape[0], 0], X_train_0[:X_train_1.shape[0], 1], label='Actual Class-0 Examples')\n",
    "plt.legend()"
   ]
  },
  {
   "cell_type": "markdown",
   "metadata": {},
   "source": [
    "##### Let's build a model with Logistic Regression"
   ]
  },
  {
   "cell_type": "code",
   "execution_count": null,
   "metadata": {},
   "outputs": [],
   "source": [
    "#import model\n",
    "from sklearn.linear_model import LogisticRegression\n",
    "\n",
    "#define model\n",
    "lr_adasyn = LogisticRegression(solver='liblinear')\n",
    "\n",
    "#define hyper_parameters\n",
    "num_C = [0.001,0.003,0.005,0.01,0.03,0.1,0.3,0.5,1,5,10,100,1000]  #--> list of values\n",
    "hyper_params = {'C':num_C, 'penalty':['l1','l2']}\n",
    "\n",
    "#call RandomSearch function\n",
    "RandomSearch(lr_adasyn,hyper_params,X_train_adasyn,y_train_adasyn)"
   ]
  },
  {
   "cell_type": "code",
   "execution_count": null,
   "metadata": {},
   "outputs": [],
   "source": [
    "#Use the best parameters of the model obtained and do cross-validation\n",
    "lr_adasyn=LogisticRegression(penalty= 'l1', C= 0.003,solver='liblinear')\n",
    "StratifiedFolds(X_train_adasyn,y_train_adasyn,lr_adasyn)"
   ]
  },
  {
   "cell_type": "markdown",
   "metadata": {},
   "source": [
    "##### Build models on other algorithms to see the better performing on ADASYN"
   ]
  },
  {
   "cell_type": "markdown",
   "metadata": {},
   "source": [
    "##### Let's build a model with Random Forest"
   ]
  },
  {
   "cell_type": "code",
   "execution_count": null,
   "metadata": {},
   "outputs": [],
   "source": [
    "#import model\n",
    "from sklearn.ensemble import RandomForestClassifier\n",
    "\n",
    "#define model\n",
    "rf_adasyn = RandomForestClassifier(warm_start=True,n_estimators=300)\n",
    "\n",
    "#define hyper_parameters\n",
    "hyper_params = {'max_depth':[9,21], 'min_samples_leaf':[1,5],'min_samples_split':[2,8]}\n",
    "\n",
    "#call RandomSearch function\n",
    "RandomSearch(rf_adasyn,hyper_params,X_train_adasyn,y_train_adasyn)"
   ]
  },
  {
   "cell_type": "code",
   "execution_count": null,
   "metadata": {},
   "outputs": [],
   "source": [
    "#Use the best parameters of the model obtained and do cross-validation\n",
    "rf_adasyn=RandomForestClassifier(min_samples_split= 8, min_samples_leaf= 5, max_depth= 9,warm_start=True,n_estimators=300)\n",
    "StratifiedFolds(X_train_adasyn,y_train_adasyn,rf_adasyn)"
   ]
  },
  {
   "cell_type": "markdown",
   "metadata": {},
   "source": [
    "##### Let's build a model with XG Boosting"
   ]
  },
  {
   "cell_type": "code",
   "execution_count": null,
   "metadata": {},
   "outputs": [],
   "source": [
    "#import model\n",
    "from xgboost import XGBClassifier\n",
    "\n",
    "#define model\n",
    "xgb_adasyn = XGBClassifier(n_estimators=200,gamma=2)\n",
    "\n",
    "#perform hyperparameter tuning\n",
    "hyper_params = {'min_child_weight': [1, 5],'learning_rate':[0.1,1],'max_depth': [8,16]}\n",
    "\n",
    "#call RandomSearch function\n",
    "RandomSearch(xgb_adasyn,hyper_params,X_train_adasyn,y_train_adasyn)"
   ]
  },
  {
   "cell_type": "code",
   "execution_count": null,
   "metadata": {},
   "outputs": [],
   "source": [
    "#Use the best parameters of the model obtained and do cross-validation\n",
    "xgb_adasyn=XGBClassifier(min_child_weight= 5, max_depth= 8, learning_rate= 0.1,n_estimators=200,gamma=2)\n",
    "StratifiedFolds(X_train_adasyn,y_train_adasyn,xgb_adasyn)"
   ]
  },
  {
   "cell_type": "markdown",
   "metadata": {},
   "source": [
    "### Select the oversampling method which shows the best result on a model\n",
    "- Apply the best hyperparameter on the model\n",
    "- Predict on the test dataset"
   ]
  },
  {
   "cell_type": "code",
   "execution_count": null,
   "metadata": {},
   "outputs": [],
   "source": [
    "from IPython.display import display_html\n",
    "\n",
    "def model_roc(model, X, y):\n",
    "    y_pred = model.predict_proba(X)\n",
    "    return metrics.roc_auc_score(y,y_pred[:,1])\n",
    "\n",
    "def model_recall(model, X, y):\n",
    "    y_pred = model.predict(X)\n",
    "    return metrics.recall_score(y,y_pred)\n",
    "\n",
    "def model_precision(model, X, y):\n",
    "    y_pred = model.predict(X)\n",
    "    return metrics.precision_score(y,y_pred)\n",
    "\n",
    "best_roc_train = pd.DataFrame(np.array([[model_roc(lr,X_train,y_train),model_roc(lr_os,X_train_os,y_train_os),model_roc(lr_smote,X_train_smote,y_train_smote),model_roc(lr_adasyn,X_train_adasyn,y_train_adasyn)],\n",
    "                                    [model_roc(rf,X_train,y_train),model_roc(rf_os,X_train_os,y_train_os),model_roc(rf_smote,X_train_smote,y_train_smote),model_roc(rf_adasyn,X_train_adasyn,y_train_adasyn)],\n",
    "                                    [model_roc(xgb,X_train,y_train),model_roc(xgb_os,X_train_os,y_train_os),model_roc(xgb_smote,X_train_smote,y_train_smote),model_roc(xgb_adasyn,X_train_adasyn,y_train_adasyn)]]),\n",
    "                         columns=['Imbalanced','Random Over Sampling','Smote','Adasyn'])\n",
    "\n",
    "best_roc_test = pd.DataFrame(np.array([[model_roc(lr,X_test,y_test),model_roc(lr_os,X_test,y_test),model_roc(lr_smote,X_test,y_test),model_roc(lr_adasyn,X_test,y_test)],\n",
    "                                    [model_roc(rf,X_test,y_test),model_roc(rf_os,X_test,y_test),model_roc(rf_smote,X_test,y_test),model_roc(rf_adasyn,X_test,y_test)],\n",
    "                                    [model_roc(xgb,X_test,y_test),model_roc(xgb_os,X_test,y_test),model_roc(xgb_smote,X_test,y_test),model_roc(xgb_adasyn,X_test,y_test)]]),\n",
    "                         columns=['Imbalanced','Random Over Sampling','Smote','Adasyn'])\n",
    "\n",
    "best_recall_train = pd.DataFrame(np.array([[model_recall(lr,X_train,y_train),model_recall(lr_os,X_train_os,y_train_os),model_recall(lr_smote,X_train_smote,y_train_smote),model_recall(lr_adasyn,X_train_adasyn,y_train_adasyn)],\n",
    "                                    [model_recall(rf,X_train,y_train),model_recall(rf_os,X_train_os,y_train_os),model_recall(rf_smote,X_train_smote,y_train_smote),model_recall(rf_adasyn,X_train_adasyn,y_train_adasyn)],\n",
    "                                    [model_recall(xgb,X_train,y_train),model_recall(xgb_os,X_train_os,y_train_os),model_recall(xgb_smote,X_train_smote,y_train_smote),model_recall(xgb_adasyn,X_train_adasyn,y_train_adasyn)]]),\n",
    "                         columns=['Imbalanced','Random Over Sampling','Smote','Adasyn'])\n",
    "\n",
    "best_recall_test = pd.DataFrame(np.array([[model_recall(lr,X_test,y_test),model_recall(lr_os,X_test,y_test),model_recall(lr_smote,X_test,y_test),model_recall(lr_adasyn,X_test,y_test)],\n",
    "                                    [model_recall(rf,X_test,y_test),model_recall(rf_os,X_test,y_test),model_recall(rf_smote,X_test,y_test),model_recall(rf_adasyn,X_test,y_test)],\n",
    "                                    [model_recall(xgb,X_test,y_test),model_recall(xgb_os,X_test,y_test),model_recall(xgb_smote,X_test,y_test),model_recall(xgb_adasyn,X_test,y_test)]]),\n",
    "                         columns=['Imbalanced','Random Over Sampling','Smote','Adasyn'])\n",
    "\n",
    "best_precision_train = pd.DataFrame(np.array([[model_precision(lr,X_train,y_train),model_precision(lr_os,X_train_os,y_train_os),model_precision(lr_smote,X_train_smote,y_train_smote),model_precision(lr_adasyn,X_train_adasyn,y_train_adasyn)],\n",
    "                                    [model_precision(rf,X_train,y_train),model_precision(rf_os,X_train_os,y_train_os),model_precision(rf_smote,X_train_smote,y_train_smote),model_precision(rf_adasyn,X_train_adasyn,y_train_adasyn)],\n",
    "                                    [model_precision(xgb,X_train,y_train),model_precision(xgb_os,X_train_os,y_train_os),model_precision(xgb_smote,X_train_smote,y_train_smote),model_precision(xgb_adasyn,X_train_adasyn,y_train_adasyn)]]),\n",
    "                         columns=['Imbalanced','Random Over Sampling','Smote','Adasyn'])\n",
    "\n",
    "best_precision_test = pd.DataFrame(np.array([[model_precision(lr,X_test,y_test),model_precision(lr_os,X_test,y_test),model_precision(lr_smote,X_test,y_test),model_precision(lr_adasyn,X_test,y_test)],\n",
    "                                    [model_precision(rf,X_test,y_test),model_precision(rf_os,X_test,y_test),model_precision(rf_smote,X_test,y_test),model_precision(rf_adasyn,X_test,y_test)],\n",
    "                                    [model_precision(xgb,X_test,y_test),model_precision(xgb_os,X_test,y_test),model_precision(xgb_smote,X_test,y_test),model_precision(xgb_adasyn,X_test,y_test)]]),\n",
    "                         columns=['Imbalanced','Random Over Sampling','Smote','Adasyn'])\n",
    "\n",
    "best_roc_train.rename(index={0:'LR',1:'RF',2:'XGB'},inplace=True)\n",
    "best_roc_test.rename(index={0:'LR',1:'RF',2:'XGB'},inplace=True)\n",
    "best_recall_train.rename(index={0:'LR',1:'RF',2:'XGB'},inplace=True)\n",
    "best_recall_test.rename(index={0:'LR',1:'RF',2:'XGB'},inplace=True)\n",
    "best_precision_train.rename(index={0:'LR',1:'RF',2:'XGB'},inplace=True)\n",
    "best_precision_test.rename(index={0:'LR',1:'RF',2:'XGB'},inplace=True)\n",
    "\n",
    "best_roc_train=best_roc_train.style.set_table_attributes(\"style='display:inline'\").set_caption(\"Train ROC AUC Scores\")\n",
    "best_roc_test=best_roc_test.style.set_table_attributes(\"style='display:inline'\").set_caption(\"Test ROC AUC Scores\")\n",
    "best_recall_train=best_recall_train.style.set_table_attributes(\"style='display:inline'\").set_caption(\"Train Recall Scores\")\n",
    "best_recall_test=best_recall_test.style.set_table_attributes(\"style='display:inline'\").set_caption(\"Test Recall Scores\")\n",
    "best_precision_train=best_precision_train.style.set_table_attributes(\"style='display:inline'\").set_caption(\"Train Precision Scores\")\n",
    "best_precision_test=best_precision_test.style.set_table_attributes(\"style='display:inline'\").set_caption(\"Test Precision Scores\")\n",
    "\n",
    "display_html(best_roc_train._repr_html_()+' '+best_roc_test._repr_html_(),raw=True)\n",
    "display_html(best_recall_train._repr_html_()+' '+best_recall_test._repr_html_(),raw=True)\n",
    "display_html(best_precision_train._repr_html_()+' '+best_precision_test._repr_html_(),raw=True)"
   ]
  },
  {
   "cell_type": "markdown",
   "metadata": {},
   "source": [
    "Based on the best performance metrics of `roc-auc-score`, `recall` and `precision` on train and test data, we have choosen `XGBoost Classifier` trained on `Random Over Sampling` as the best model to predict test data"
   ]
  },
  {
   "cell_type": "markdown",
   "metadata": {},
   "source": [
    "##### Best model among all the above is `XGBoost Classifier` trained on `Random Over Sampling` data"
   ]
  },
  {
   "cell_type": "code",
   "execution_count": null,
   "metadata": {},
   "outputs": [],
   "source": [
    "clf = XGBClassifier(min_child_weight= 1, max_depth= 8, learning_rate= 0.1,n_estimators=200,gamma=2)  #initialise the model with optimum hyperparameters\n",
    "clf.fit(X_train_os, y_train_os)\n",
    "\n",
    "#predict probability on train_cv\n",
    "y_pred = clf.predict_proba(X_train_os)\n",
    "print(\"\\nRoc for y_train vs y_pred for your model: {:.4}\\n\".format(metrics.roc_auc_score(y_train_os,y_pred[:,1])))\n",
    "    \n",
    "    \n",
    "#predict probability on test_cv\n",
    "y_pred = clf.predict_proba(X_test)\n",
    "print(\"\\nRoc for y_test vs y_pred for your model: {:.4}\\n\".format(metrics.roc_auc_score(y_test,y_pred[:,1])))\n",
    "    \n",
    "preds=clf.predict(X_test)\n",
    "    \n",
    "#Classification report and Confusion matrix\n",
    "print(classification_report(y_test,preds))\n",
    "display(pd.DataFrame(confusion_matrix(y_test, preds),\n",
    "                 columns=['Predicted Non-Fraud', 'Predicted Fraud'],\n",
    "                 index=['Actual Non-Fraud', 'Actual Fraud']))\n",
    "#print --> #print the evaluation score on the X_test by choosing the best evaluation metric"
   ]
  },
  {
   "cell_type": "markdown",
   "metadata": {},
   "source": [
    "### Print the important features of the best model to understand the dataset"
   ]
  },
  {
   "cell_type": "code",
   "execution_count": null,
   "metadata": {},
   "outputs": [],
   "source": [
    "var_imp = []\n",
    "for i in clf.feature_importances_:\n",
    "    var_imp.append(i)\n",
    "print('Top var =', var_imp.index(np.sort(clf.feature_importances_)[-1])+1)\n",
    "print('2nd Top var =', var_imp.index(np.sort(clf.feature_importances_)[-2])+1)\n",
    "print('3rd Top var =', var_imp.index(np.sort(clf.feature_importances_)[-3])+1)\n",
    "\n",
    "# Variable on Index-13 and Index-9 seems to be the top 2 variables\n",
    "top_var_index = var_imp.index(np.sort(clf.feature_importances_)[-1])\n",
    "second_top_var_index = var_imp.index(np.sort(clf.feature_importances_)[-2])\n",
    "\n",
    "X_train_1 = X_train.to_numpy()[np.where(y_train==1.0)]\n",
    "X_train_0 = X_train.to_numpy()[np.where(y_train==0.0)]\n",
    "\n",
    "np.random.shuffle(X_train_0)\n",
    "\n",
    "import matplotlib.pyplot as plt\n",
    "%matplotlib inline\n",
    "plt.rcParams['figure.figsize'] = [20, 20]\n",
    "\n",
    "plt.scatter(X_train_1[:, top_var_index], X_train_1[:, second_top_var_index], label='Actual Class-1 Examples')\n",
    "plt.scatter(X_train_0[:X_train_1.shape[0], top_var_index], X_train_0[:X_train_1.shape[0], second_top_var_index],\n",
    "            label='Actual Class-0 Examples')\n",
    "plt.legend()"
   ]
  },
  {
   "cell_type": "code",
   "execution_count": null,
   "metadata": {},
   "outputs": [],
   "source": [
    "#### Print the FPR,TPR & select the best threshold from the roc curve\n",
    "def plot_roc_curve(fpr, tpr):\n",
    "    plt.figure(figsize=(10, 8))\n",
    "    plt.plot(fpr, tpr, color='orange', label='ROC curve (area = %0.2f)' % roc_auc)\n",
    "    plt.plot([0, 1], [0, 1], color='darkblue', linestyle='--')\n",
    "    plt.xlabel('False Positive Rate')\n",
    "    plt.ylabel('True Positive Rate')\n",
    "    plt.title('Receiver Operating Characteristic (ROC) Curve')\n",
    "    plt.legend(loc=\"lower right\")\n",
    "    plt.show()"
   ]
  },
  {
   "cell_type": "code",
   "execution_count": null,
   "metadata": {},
   "outputs": [],
   "source": [
    "print('Train auc =', metrics.roc_auc_score(y_test,y_pred[:,1]))\n",
    "fpr, tpr, thresholds = metrics.roc_curve(y_test,y_pred[:,1])\n",
    "roc_auc = metrics.auc(fpr, tpr)\n",
    "threshold = thresholds[np.argmax(tpr-fpr)]\n",
    "print('Threshold =', threshold)\n",
    "plot_roc_curve(fpr, tpr)"
   ]
  },
  {
   "cell_type": "markdown",
   "metadata": {},
   "source": [
    "#### So, the metrics on test set are as follows:\n",
    "\n",
    "- Area under ROC curve : 0.97\n",
    "- Recall / Sensitivity : 0.83\n",
    "- Precision            : 0.83\n",
    "- F1 Score             : 0.83"
   ]
  },
  {
   "cell_type": "code",
   "execution_count": null,
   "metadata": {},
   "outputs": [],
   "source": [
    "from sklearn.metrics import precision_recall_curve\n",
    "p, r, thresholds = precision_recall_curve(y_test, y_pred[:,1])\n",
    "plt.figure(figsize=(10, 8))\n",
    "plt.plot(thresholds, p[:-1], \"g-\")\n",
    "plt.plot(thresholds, r[:-1], \"r-\")\n",
    "plt.show()"
   ]
  },
  {
   "cell_type": "markdown",
   "metadata": {},
   "source": [
    "## Conclusion:\n",
    "\n",
    "- So, the model is able to `predict 123 frauds out of 148` which is consistently a best model\n",
    "- This model has `misclassified only 25 transactions as fraud` out of 85295 transactions\n",
    "- So, the bank customer care has to call 25 people out of 85,295 to check if the transactions are valid/not"
   ]
  }
 ],
 "metadata": {
  "kernelspec": {
   "display_name": "Python 3",
   "language": "python",
   "name": "python3"
  },
  "language_info": {
   "codemirror_mode": {
    "name": "ipython",
    "version": 3
   },
   "file_extension": ".py",
   "mimetype": "text/x-python",
   "name": "python",
   "nbconvert_exporter": "python",
   "pygments_lexer": "ipython3",
   "version": "3.7.4"
  }
 },
 "nbformat": 4,
 "nbformat_minor": 2
}
